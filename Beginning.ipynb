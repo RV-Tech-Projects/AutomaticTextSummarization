{
 "cells": [
  {
   "cell_type": "code",
   "execution_count": 1,
   "metadata": {},
   "outputs": [],
   "source": [
    "import numpy as np\n",
    "import pandas as pd\n",
    "import nltk"
   ]
  },
  {
   "cell_type": "code",
   "execution_count": 2,
   "metadata": {},
   "outputs": [
    {
     "name": "stderr",
     "output_type": "stream",
     "text": [
      "[nltk_data] Downloading package punkt to /Users/apple/nltk_data...\n",
      "[nltk_data]   Package punkt is already up-to-date!\n"
     ]
    }
   ],
   "source": [
    "nltk.download('punkt')\n",
    "import re\n",
    "\n",
    "# importing the libraries we’ll be using"
   ]
  },
  {
   "cell_type": "code",
   "execution_count": 3,
   "metadata": {},
   "outputs": [],
   "source": [
    "# Reading the dataset\n",
    "df = pd.read_csv(\"tennis_articles.csv\")"
   ]
  },
  {
   "cell_type": "code",
   "execution_count": 4,
   "metadata": {},
   "outputs": [
    {
     "data": {
      "text/html": [
       "<div>\n",
       "<style scoped>\n",
       "    .dataframe tbody tr th:only-of-type {\n",
       "        vertical-align: middle;\n",
       "    }\n",
       "\n",
       "    .dataframe tbody tr th {\n",
       "        vertical-align: top;\n",
       "    }\n",
       "\n",
       "    .dataframe thead th {\n",
       "        text-align: right;\n",
       "    }\n",
       "</style>\n",
       "<table border=\"1\" class=\"dataframe\">\n",
       "  <thead>\n",
       "    <tr style=\"text-align: right;\">\n",
       "      <th></th>\n",
       "      <th>article_id</th>\n",
       "      <th>article_text</th>\n",
       "      <th>source</th>\n",
       "    </tr>\n",
       "  </thead>\n",
       "  <tbody>\n",
       "    <tr>\n",
       "      <th>0</th>\n",
       "      <td>1</td>\n",
       "      <td>Maria Sharapova has basically no friends as te...</td>\n",
       "      <td>https://www.tennisworldusa.org/tennis/news/Mar...</td>\n",
       "    </tr>\n",
       "    <tr>\n",
       "      <th>1</th>\n",
       "      <td>2</td>\n",
       "      <td>BASEL, Switzerland (AP), Roger Federer advance...</td>\n",
       "      <td>http://www.tennis.com/pro-game/2018/10/copil-s...</td>\n",
       "    </tr>\n",
       "    <tr>\n",
       "      <th>2</th>\n",
       "      <td>3</td>\n",
       "      <td>Roger Federer has revealed that organisers of ...</td>\n",
       "      <td>https://scroll.in/field/899938/tennis-roger-fe...</td>\n",
       "    </tr>\n",
       "    <tr>\n",
       "      <th>3</th>\n",
       "      <td>4</td>\n",
       "      <td>Kei Nishikori will try to end his long losing ...</td>\n",
       "      <td>http://www.tennis.com/pro-game/2018/10/nishiko...</td>\n",
       "    </tr>\n",
       "    <tr>\n",
       "      <th>4</th>\n",
       "      <td>5</td>\n",
       "      <td>Federer, 37, first broke through on tour over ...</td>\n",
       "      <td>https://www.express.co.uk/sport/tennis/1036101...</td>\n",
       "    </tr>\n",
       "  </tbody>\n",
       "</table>\n",
       "</div>"
      ],
      "text/plain": [
       "   article_id                                       article_text  \\\n",
       "0           1  Maria Sharapova has basically no friends as te...   \n",
       "1           2  BASEL, Switzerland (AP), Roger Federer advance...   \n",
       "2           3  Roger Federer has revealed that organisers of ...   \n",
       "3           4  Kei Nishikori will try to end his long losing ...   \n",
       "4           5  Federer, 37, first broke through on tour over ...   \n",
       "\n",
       "                                              source  \n",
       "0  https://www.tennisworldusa.org/tennis/news/Mar...  \n",
       "1  http://www.tennis.com/pro-game/2018/10/copil-s...  \n",
       "2  https://scroll.in/field/899938/tennis-roger-fe...  \n",
       "3  http://www.tennis.com/pro-game/2018/10/nishiko...  \n",
       "4  https://www.express.co.uk/sport/tennis/1036101...  "
      ]
     },
     "execution_count": 4,
     "metadata": {},
     "output_type": "execute_result"
    }
   ],
   "source": [
    "df.head()\n"
   ]
  },
  {
   "cell_type": "code",
   "execution_count": 5,
   "metadata": {},
   "outputs": [
    {
     "data": {
      "text/plain": [
       "\"Maria Sharapova has basically no friends as tennis players on the WTA Tour. The Russian player has no problems in openly speaking about it and in a recent interview she said: 'I don't really hide any feelings too much. I think everyone knows this is my job here. When I'm on the courts or when I'm on the court playing, I'm a competitor and I want to beat every single person whether they're in the locker room or across the net.So I'm not the one to strike up a conversation about the weather and know that in the next few minutes I have to go and try to win a tennis match. I'm a pretty competitive girl. I say my hellos, but I'm not sending any players flowers as well. Uhm, I'm not really friendly or close to many players. I have not a lot of friends away from the courts.' When she said she is not really close to a lot of players, is that something strategic that she is doing? Is it different on the men's tour than the women's tour? 'No, not at all. I think just because you're in the same sport doesn't mean that you have to be friends with everyone just because you're categorized, you're a tennis player, so you're going to get along with tennis players. I think every person has different interests. I have friends that have completely different jobs and interests, and I've met them in very different parts of my life. I think everyone just thinks because we're tennis players we should be the greatest of friends. But ultimately tennis is just a very small part of what we do. There are so many other things that we're interested in, that we do.'\""
      ]
     },
     "execution_count": 5,
     "metadata": {},
     "output_type": "execute_result"
    }
   ],
   "source": [
    "df['article_text'][0]"
   ]
  },
  {
   "cell_type": "code",
   "execution_count": 6,
   "metadata": {},
   "outputs": [
    {
     "data": {
      "text/plain": [
       "'Roger Federer has revealed that organisers of the re-launched and condensed Davis Cup gave him three days to decide if he would commit to the controversial competition. Speaking at the Swiss Indoors tournament where he will play in Sundays final against Romanian qualifier Marius Copil, the world number three said that given the impossibly short time frame to make a decision, he opted out of any commitment. \"They only left me three days to decide\", Federer said. \"I didn\\'t to have time to consult with all the people I had to consult. \"I could not make a decision in that time, so I told them to do what they wanted.\" The 20-time Grand Slam champion has voiced doubts about the wisdom of the one-week format to be introduced by organisers Kosmos, who have promised the International Tennis Federation up to $3 billion in prize money over the next quarter-century. The competition is set to feature 18 countries in the November 18-24 finals in Madrid next year, and will replace the classic home-and-away ties played four times per year for decades. Kosmos is headed by Barcelona footballer Gerard Pique, who is hoping fellow Spaniard Rafael Nadal will play in the upcoming event. Novak Djokovic has said he will give precedence to the ATP\\'s intended re-launch of the defunct World Team Cup in January 2020, at various Australian venues. Major players feel that a big event in late November combined with one in January before the Australian Open will mean too much tennis and too little rest. Federer said earlier this month in Shanghai in that his chances of playing the Davis Cup were all but non-existent. \"I highly doubt it, of course. We will see what happens,\" he said. \"I do not think this was designed for me, anyhow. This was designed for the future generation of players.\" Argentina and Britain received wild cards to the new-look event, and will compete along with the four 2018 semi-finalists and the 12 teams who win qualifying rounds next February. \"I don\\'t like being under that kind of pressure,\" Federer said of the deadline Kosmos handed him.'"
      ]
     },
     "execution_count": 6,
     "metadata": {},
     "output_type": "execute_result"
    }
   ],
   "source": [
    "df['article_text'][2]"
   ]
  },
  {
   "cell_type": "code",
   "execution_count": 7,
   "metadata": {},
   "outputs": [],
   "source": [
    "# Now we will break the text into individual sentences. \n",
    "# We will also use the sent_tokenize( ) method of the nltk module to our help .\n",
    "from nltk.tokenize import sent_tokenize\n",
    "tokenised_article = list()\n",
    "for s in df['article_text']:\n",
    "    tokenised_article.append(sent_tokenize(s))\n",
    "\n",
    "sentences = [sentence for sentences in tokenised_article for sentence in sentences]"
   ]
  },
  {
   "cell_type": "code",
   "execution_count": 9,
   "metadata": {},
   "outputs": [
    {
     "data": {
      "text/plain": [
       "['Maria Sharapova has basically no friends as tennis players on the WTA Tour.',\n",
       " \"The Russian player has no problems in openly speaking about it and in a recent interview she said: 'I don't really hide any feelings too much.\",\n",
       " 'I think everyone knows this is my job here.',\n",
       " \"When I'm on the courts or when I'm on the court playing, I'm a competitor and I want to beat every single person whether they're in the locker room or across the net.So I'm not the one to strike up a conversation about the weather and know that in the next few minutes I have to go and try to win a tennis match.\",\n",
       " \"I'm a pretty competitive girl.\",\n",
       " \"I say my hellos, but I'm not sending any players flowers as well.\",\n",
       " \"Uhm, I'm not really friendly or close to many players.\"]"
      ]
     },
     "execution_count": 9,
     "metadata": {},
     "output_type": "execute_result"
    }
   ],
   "source": [
    "sentences[:7] "
   ]
  },
  {
   "cell_type": "code",
   "execution_count": 10,
   "metadata": {},
   "outputs": [],
   "source": [
    "# We will be using the pre-trained Wikipedia 2014 + Gigaword 5 GloVe as our collection of word-embeddings\n",
    "\n",
    "# Extract word vectors\n",
    "word_embeddings = {}\n",
    "file = open('glove.6B/glove.6B.100d.txt', encoding='utf-8')\n",
    "for line in file:\n",
    "    values = line.split()\n",
    "    word = values[0]\n",
    "    coefficients = np.asarray(values[1:], dtype='float32')\n",
    "    word_embeddings[word] = coefficients\n",
    "file.close()"
   ]
  },
  {
   "cell_type": "code",
   "execution_count": 11,
   "metadata": {},
   "outputs": [
    {
     "data": {
      "text/plain": [
       "400000"
      ]
     },
     "execution_count": 11,
     "metadata": {},
     "output_type": "execute_result"
    }
   ],
   "source": [
    "len(word_embeddings)"
   ]
  },
  {
   "cell_type": "code",
   "execution_count": 12,
   "metadata": {},
   "outputs": [],
   "source": [
    "# TEXT Pre-Processing\n",
    "\n",
    "# remove special characters and numeric characters\n",
    "clean_sentences = pd.Series(sentences).str.replace(\"[^a-zA-Z]\", \" \")\n",
    "\n",
    "# make alphabets lowercase\n",
    "clean_sentences = [character.lower() for character in clean_sentences]"
   ]
  },
  {
   "cell_type": "code",
   "execution_count": 13,
   "metadata": {},
   "outputs": [
    {
     "name": "stderr",
     "output_type": "stream",
     "text": [
      "[nltk_data] Downloading package stopwords to /Users/apple/nltk_data...\n",
      "[nltk_data]   Package stopwords is already up-to-date!\n"
     ]
    }
   ],
   "source": [
    "# Removing Stop-Words (commonly used words of a language – is, am, the, of, in, etc.)\n",
    "\n",
    "# Dwonloading the stop words\n",
    "nltk.download('stopwords')\n",
    "\n",
    "# Now we can import the stopwords.\n",
    "from nltk.corpus import stopwords\n",
    "stop_words = stopwords.words('english')\n",
    "\n",
    "# function to remove stopwords\n",
    "def remove_stopwords(sentence):\n",
    "    return \" \".join([word for word in sentence if word not in stop_words])\n",
    "\n",
    "# remove stopwords from the sentences\n",
    "clean_sentences = [remove_stopwords(r.split()) for r in clean_sentences]"
   ]
  },
  {
   "cell_type": "code",
   "execution_count": 14,
   "metadata": {},
   "outputs": [],
   "source": [
    "# VECTOR REPRESENTATION OF SENTENCES\n",
    "\n",
    "sentence_vectors = []\n",
    "for sentence in clean_sentences:\n",
    "    if len(sentence) != 0:\n",
    "        vector = sum([word_embeddings.get(word, np.zeros((100,))) for word in sentence.split()])/(len(sentence.split())+0.001)\n",
    "    else:\n",
    "        vector = np.zeros((100,))\n",
    "    sentence_vectors.append(vector)"
   ]
  },
  {
   "cell_type": "code",
   "execution_count": 17,
   "metadata": {},
   "outputs": [],
   "source": [
    "# PREPARATION OF SIMILARITY MATRIX\n",
    "\n",
    "# We will use Cosine Similarity to compute the similarity between a pair of sentences.\n",
    "from sklearn.metrics.pairwise import cosine_similarity\n",
    "for i in range(len(sentences)):\n",
    "    for j in range(len(sentences)):\n",
    "        if i != j:\n",
    "            similarity_matrix[i][j] = cosine_similarity(sentence_vectors[i].reshape(1,100), sentence_vectors[j].reshape(1,100))[0,0]"
   ]
  },
  {
   "cell_type": "code",
   "execution_count": 19,
   "metadata": {},
   "outputs": [
    {
     "data": {
      "text/plain": [
       "{0: 0.008072651850222512,\n",
       " 1: 0.008501993234642567,\n",
       " 2: 0.007811931807453844,\n",
       " 3: 0.009293791275448712,\n",
       " 4: 0.007500319318214275,\n",
       " 5: 0.008146814792723995,\n",
       " 6: 0.008477413386742535,\n",
       " 7: 0.008251000814613184,\n",
       " 8: 0.008596957752663233,\n",
       " 9: 0.008257144255188685,\n",
       " 10: 0.0012695751770095795,\n",
       " 11: 0.008860552417038809,\n",
       " 12: 0.00808354329685214,\n",
       " 13: 0.008156804667616403,\n",
       " 14: 0.008443316914856017,\n",
       " 15: 0.008556893026564389,\n",
       " 16: 0.00781282665344099,\n",
       " 17: 0.008071958040219474,\n",
       " 18: 0.008406020966624999,\n",
       " 19: 0.008847892278310357,\n",
       " 20: 0.00886086521110968,\n",
       " 21: 0.007421917078736729,\n",
       " 22: 0.008223434005176018,\n",
       " 23: 0.008991766437337142,\n",
       " 24: 0.00846397038200988,\n",
       " 25: 0.006701898132655766,\n",
       " 26: 0.008232471647009004,\n",
       " 27: 0.008913135590780042,\n",
       " 28: 0.009061682960248691,\n",
       " 29: 0.009093905738349194,\n",
       " 30: 0.009244521561084428,\n",
       " 31: 0.008994323924050843,\n",
       " 32: 0.007236869098405197,\n",
       " 33: 0.00870909310685239,\n",
       " 34: 0.008919130532277221,\n",
       " 35: 0.00909742140395915,\n",
       " 36: 0.007715970734839171,\n",
       " 37: 0.008883452085381488,\n",
       " 38: 0.009260614577667874,\n",
       " 39: 0.009094807385601894,\n",
       " 40: 0.008031673761150363,\n",
       " 41: 0.00797153076116499,\n",
       " 42: 0.007049062087359634,\n",
       " 43: 0.007933352708601384,\n",
       " 44: 0.009059878141223639,\n",
       " 45: 0.008547315082484647,\n",
       " 46: 0.009014976087786095,\n",
       " 47: 0.007259944396806705,\n",
       " 48: 0.007911644624310207,\n",
       " 49: 0.008681512667451747,\n",
       " 50: 0.006696434595767536,\n",
       " 51: 0.008700002594765088,\n",
       " 52: 0.00866599696932896,\n",
       " 53: 0.008118560937798523,\n",
       " 54: 0.009203588154140277,\n",
       " 55: 0.008276617514003963,\n",
       " 56: 0.009136178547476196,\n",
       " 57: 0.008011884096099986,\n",
       " 58: 0.009104756490893578,\n",
       " 59: 0.0089435396685186,\n",
       " 60: 0.008546416451426926,\n",
       " 61: 0.00908936373863044,\n",
       " 62: 0.008749029164418859,\n",
       " 63: 0.008656528143471339,\n",
       " 64: 0.008617309948624021,\n",
       " 65: 0.0072760302442452735,\n",
       " 66: 0.009213900346569224,\n",
       " 67: 0.008674617018970076,\n",
       " 68: 0.009016694561243405,\n",
       " 69: 0.008436192856183685,\n",
       " 70: 0.009016568277344787,\n",
       " 71: 0.008817234006104551,\n",
       " 72: 0.007873247642455323,\n",
       " 73: 0.009031690011302693,\n",
       " 74: 0.008107483402548823,\n",
       " 75: 0.007877487046684633,\n",
       " 76: 0.00803513220311303,\n",
       " 77: 0.008574003232712464,\n",
       " 78: 0.008966528057231554,\n",
       " 79: 0.00891210068717215,\n",
       " 80: 0.008688526252990844,\n",
       " 81: 0.008622437785610598,\n",
       " 82: 0.00880365171727857,\n",
       " 83: 0.008945846989591052,\n",
       " 84: 0.008678156661297239,\n",
       " 85: 0.008306574979617508,\n",
       " 86: 0.00874770313283493,\n",
       " 87: 0.00873168381260245,\n",
       " 88: 0.008467251034292682,\n",
       " 89: 0.005651524795139579,\n",
       " 90: 0.008996828767240101,\n",
       " 91: 0.008552831112733906,\n",
       " 92: 0.008774774562905152,\n",
       " 93: 0.008831355578557555,\n",
       " 94: 0.008709578511842017,\n",
       " 95: 0.008894835981712822,\n",
       " 96: 0.00838868588294606,\n",
       " 97: 0.008856328238857913,\n",
       " 98: 0.008420356619095341,\n",
       " 99: 0.007851104211957437,\n",
       " 100: 0.008621842533121647,\n",
       " 101: 0.008835781696421387,\n",
       " 102: 0.008928322676419836,\n",
       " 103: 0.009040595505187024,\n",
       " 104: 0.008502881120615452,\n",
       " 105: 0.008880329990194516,\n",
       " 106: 0.009102625732248786,\n",
       " 107: 0.008609461672344377,\n",
       " 108: 0.008942212426825627,\n",
       " 109: 0.007757844367246511,\n",
       " 110: 0.00856830028273436,\n",
       " 111: 0.008082033146521098,\n",
       " 112: 0.0061093212819990335,\n",
       " 113: 0.008327135506407256,\n",
       " 114: 0.008898758213901535,\n",
       " 115: 0.008715866209409206,\n",
       " 116: 0.008855870132268805,\n",
       " 117: 0.007889359580977138,\n",
       " 118: 0.009064760848488722}"
      ]
     },
     "execution_count": 19,
     "metadata": {},
     "output_type": "execute_result"
    }
   ],
   "source": [
    "# APPLYING PAGE RANK ALGORITHM\n",
    "# Before going further, let us convert the similarity matrix into a graph. \n",
    "# The nodes of this graph will represent the sentences and the edges will represent \n",
    "# the similarity scores between the sentences. \n",
    "# On this graph, we will apply the PageRank algorithm to arrive at the sentence rankings.\n",
    "import networkx as nx\n",
    "\n",
    "nx_graph = nx.from_numpy_array(similarity_matrix)\n",
    "scores = nx.pagerank(nx_graph)\n",
    "scores"
   ]
  },
  {
   "cell_type": "code",
   "execution_count": 21,
   "metadata": {},
   "outputs": [
    {
     "name": "stdout",
     "output_type": "stream",
     "text": [
      "When I'm on the courts or when I'm on the court playing, I'm a competitor and I want to beat every single person whether they're in the locker room or across the net.So I'm not the one to strike up a conversation about the weather and know that in the next few minutes I have to go and try to win a tennis match.\n",
      "\n",
      "\n",
      "Major players feel that a big event in late November combined with one in January before the Australian Open will mean too much tennis and too little rest.\n",
      "\n",
      "\n",
      "Speaking at the Swiss Indoors tournament where he will play in Sundays final against Romanian qualifier Marius Copil, the world number three said that given the impossibly short time frame to make a decision, he opted out of any commitment.\n",
      "\n",
      "\n",
      "\"I felt like the best weeks that I had to get to know players when I was playing were the Fed Cup weeks or the Olympic weeks, not necessarily during the tournaments.\n",
      "\n",
      "\n",
      "Currently in ninth place, Nishikori with a win could move to within 125 points of the cut for the eight-man event in London next month.\n",
      "\n",
      "\n",
      "He used his first break point to close out the first set before going up 3-0 in the second and wrapping up the win on his first match point.\n",
      "\n",
      "\n",
      "The Spaniard broke Anderson twice in the second but didn't get another chance on the South African's serve in the final set.\n",
      "\n",
      "\n",
      "\"We also had the impression that at this stage it might be better to play matches than to train.\n",
      "\n",
      "\n",
      "The competition is set to feature 18 countries in the November 18-24 finals in Madrid next year, and will replace the classic home-and-away ties played four times per year for decades.\n",
      "\n",
      "\n",
      "Federer said earlier this month in Shanghai in that his chances of playing the Davis Cup were all but non-existent.\n",
      "\n",
      "\n"
     ]
    }
   ],
   "source": [
    "# SUMMARY EXTRACTION\n",
    "\n",
    "# Extracting the top N sentences based on their rankings for summary generation.\n",
    "ranked_sentences = sorted(((scores[i],s) for i,s in enumerate(sentences)), reverse=True)\n",
    "for i in range(10):\n",
    "    print(ranked_sentences[i][1], end=\"\\n\\n\\n\")"
   ]
  },
  {
   "cell_type": "code",
   "execution_count": null,
   "metadata": {},
   "outputs": [],
   "source": []
  }
 ],
 "metadata": {
  "kernelspec": {
   "display_name": "Python 3",
   "language": "python",
   "name": "python3"
  },
  "language_info": {
   "codemirror_mode": {
    "name": "ipython",
    "version": 3
   },
   "file_extension": ".py",
   "mimetype": "text/x-python",
   "name": "python",
   "nbconvert_exporter": "python",
   "pygments_lexer": "ipython3",
   "version": "3.7.1"
  }
 },
 "nbformat": 4,
 "nbformat_minor": 2
}
